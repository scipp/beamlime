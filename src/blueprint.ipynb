{
 "cells": [
  {
   "attachments": {},
   "cell_type": "markdown",
   "id": "75373e27-537b-495f-ae68-f5ca2a82c67f",
   "metadata": {
    "tags": []
   },
   "source": [
    "# Blueprint"
   ]
  },
  {
   "cell_type": "code",
   "execution_count": null,
   "id": "aa284a9e-5018-46a6-a6ee-4bafcc008607",
   "metadata": {
    "tags": []
   },
   "outputs": [],
   "source": [
    "import scipp as sc\n",
    "%matplotlib widget\n",
    "from beamlime.logging import get_scipp_logger\n",
    "\n",
    "logger = get_scipp_logger(log_level=\"DEBUG\", widget=True)\n",
    "sc.display_logs()"
   ]
  },
  {
   "cell_type": "code",
   "execution_count": null,
   "id": "4581d456-c21f-4ebc-b973-684ab0792a19",
   "metadata": {
    "tags": []
   },
   "outputs": [],
   "source": [
    "from beamlime.applications.controller import Controller, app_factory\n",
    "from beamlime.applications.interfaces import ControlInterface\n",
    "from beamlime.logging import BeamlimeLogger\n",
    "from logging import DEBUG\n",
    "\n",
    "with app_factory.temporary_provider(BeamlimeLogger,lambda: logger):\n",
    "    app_factory[BeamlimeLogger].setLevel(DEBUG)\n",
    "    command = app_factory[ControlInterface]\n",
    "    command.start()\n",
    "    ctrl = app_factory[Controller]\n",
    "    ctrl.run()"
   ]
  },
  {
   "cell_type": "code",
   "execution_count": null,
   "id": "e7416684-5fc1-4578-8bc7-a5f4c496af7c",
   "metadata": {
    "tags": []
   },
   "outputs": [],
   "source": [
    "from beamlime.applications.data_visualization import DataPlotter\n",
    "\n",
    "app_factory[DataPlotter].fig"
   ]
  }
 ],
 "metadata": {
  "kernelspec": {
   "display_name": "Python 3 (ipykernel)",
   "language": "python",
   "name": "python3"
  },
  "language_info": {
   "codemirror_mode": {
    "name": "ipython",
    "version": 3
   },
   "file_extension": ".py",
   "mimetype": "text/x-python",
   "name": "python",
   "nbconvert_exporter": "python",
   "pygments_lexer": "ipython3",
   "version": "3.9.16"
  }
 },
 "nbformat": 4,
 "nbformat_minor": 5
}
