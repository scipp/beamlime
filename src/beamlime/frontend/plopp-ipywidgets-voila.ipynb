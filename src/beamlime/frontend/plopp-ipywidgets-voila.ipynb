{
 "cells": [
  {
   "cell_type": "code",
   "execution_count": null,
   "metadata": {},
   "outputs": [],
   "source": [
    "%matplotlib widget\n",
    "import plopp\n",
    "import ipywidgets as ipw\n",
    "import scipp as sc\n",
    "from dataclasses import dataclass\n",
    "from numpy.random import default_rng\n",
    "\n",
    "rng = default_rng(seed=1234)\n",
    "\n",
    "\n",
    "def make_random_data() -> sc.DataArray:\n",
    "    nrow = 1000\n",
    "    x = sc.array(dims=['row'], unit='m', values=(rng.random(nrow)))\n",
    "    y = sc.array(dims=['row'], unit='m', values=(rng.random(nrow)))\n",
    "    data = sc.ones(dims=['row'], unit='K', shape=[nrow])\n",
    "    data.values += 0.1 * rng.random(nrow)\n",
    "    return sc.DataArray(data=data, coords={'x': x, 'y': y}).hist(x=10, y=10)"
   ]
  },
  {
   "cell_type": "code",
   "execution_count": null,
   "metadata": {},
   "outputs": [],
   "source": [
    "import threading\n",
    "import time\n",
    "\n",
    "\n",
    "@dataclass\n",
    "class DataHandle:\n",
    "    value: sc.DataArray\n",
    "\n",
    "\n",
    "class DataProvider:\n",
    "    def __init__(self, value: sc.DataArray):\n",
    "        self._handle = DataHandle(value)\n",
    "        self._node = plopp.Node(self._handle)\n",
    "\n",
    "        @plopp.node\n",
    "        def get_value(handle: DataHandle) -> sc.DataArray:\n",
    "            return handle.value\n",
    "\n",
    "        self.value_node = get_value(self._node)\n",
    "\n",
    "    def update_data(self, value: sc.DataArray):\n",
    "        self._handle.value = value\n",
    "        self._node.notify_children(message='hi')\n",
    "\n",
    "\n",
    "da = make_random_data()\n",
    "\n",
    "provider = DataProvider(da)\n",
    "\n",
    "\n",
    "def run_change_data():\n",
    "    for _ in range(100):\n",
    "        provider.update_data(make_random_data())\n",
    "        time.sleep(0.1)\n",
    "\n",
    "\n",
    "thread = threading.Thread(target=run_change_data)\n",
    "thread.start()\n",
    "\n",
    "image = plopp.imagefigure(provider.value_node, norm='linear', vmin=1, vmax=100)\n",
    "ipw.VBox([image])"
   ]
  }
 ],
 "metadata": {
  "kernelspec": {
   "display_name": "dev310",
   "language": "python",
   "name": "python3"
  },
  "language_info": {
   "codemirror_mode": {
    "name": "ipython",
    "version": 3
   },
   "file_extension": ".py",
   "mimetype": "text/x-python",
   "name": "python",
   "nbconvert_exporter": "python",
   "pygments_lexer": "ipython3",
   "version": "3.10.14"
  }
 },
 "nbformat": 4,
 "nbformat_minor": 2
}
