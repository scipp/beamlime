{
 "cells": [
  {
   "cell_type": "code",
   "execution_count": null,
   "metadata": {},
   "outputs": [],
   "source": [
    "%matplotlib widget\n",
    "import scipp as sc\n",
    "from dataclasses import dataclass\n",
    "import plopp\n",
    "\n",
    "\n",
    "@dataclass\n",
    "class DataHandle:\n",
    "    value: sc.DataArray | None\n",
    "\n",
    "\n",
    "class DataProvider:\n",
    "    def __init__(self, value: sc.DataArray | None):\n",
    "        self._handle = DataHandle(value)\n",
    "        self._node = plopp.Node(self._handle)\n",
    "\n",
    "        @plopp.node\n",
    "        def get_value(handle: DataHandle) -> sc.DataArray | None:\n",
    "            return handle.value\n",
    "\n",
    "        self.value_node = get_value(self._node)\n",
    "\n",
    "    def update_data(self, value: sc.DataArray):\n",
    "        self._handle.value = value\n",
    "        self._node.notify_children(message='hi')\n",
    "\n",
    "\n",
    "providers: dict[str, DataProvider] = {}\n",
    "images = [\n",
    "    plopp.imagefigure(vmin=1, vmax=200, cbar=True, aspect='equal') for _ in range(4)\n",
    "]"
   ]
  },
  {
   "cell_type": "code",
   "execution_count": null,
   "metadata": {},
   "outputs": [],
   "source": [
    "import asyncio\n",
    "\n",
    "import msgpack\n",
    "import websockets\n",
    "\n",
    "from beamlime.core.serialization import deserialize_data_array\n",
    "\n",
    "\n",
    "def websocket_worker():\n",
    "    \"\"\"Background thread for WebSocket communication\"\"\"\n",
    "\n",
    "    async def connect_websocket():\n",
    "        uri = \"ws://localhost:5555/ws\"\n",
    "        async with websockets.connect(uri) as websocket:\n",
    "            while True:\n",
    "                try:\n",
    "                    data = await websocket.recv()\n",
    "                    if data:\n",
    "                        try:\n",
    "                            arrays = {\n",
    "                                tuple(k.split('||')): deserialize_data_array(v)\n",
    "                                for k, v in msgpack.unpackb(data).items()\n",
    "                            }\n",
    "                            for i, (key, value) in enumerate(arrays.items()):\n",
    "                                # plopp.imagefigure needs coords?\n",
    "                                name = ' '.join(key)\n",
    "                                for dim in value.dims:\n",
    "                                    if dim not in value.coords:\n",
    "                                        value.coords[dim] = sc.arange(\n",
    "                                            dim, value.sizes[dim], unit=None\n",
    "                                        )\n",
    "                                if name not in providers:\n",
    "                                    providers[name] = DataProvider(value)\n",
    "                                    providers[name].value_node.add_view(images[i])\n",
    "                                else:\n",
    "                                    providers[name].update_data(value)\n",
    "                        except (msgpack.UnpackException, KeyError) as e:\n",
    "                            print(\"Error processing data: %s\", e)\n",
    "                except websockets.ConnectionClosed:\n",
    "                    print(\"WebSocket connection closed, attempting to reconnect...\")\n",
    "                    await asyncio.sleep(2)\n",
    "                    break\n",
    "\n",
    "    async def keep_alive():\n",
    "        while True:\n",
    "            try:\n",
    "                await connect_websocket()\n",
    "            except Exception as e:\n",
    "                print(f\"WebSocket error: {e}\")\n",
    "                await asyncio.sleep(2)\n",
    "\n",
    "    asyncio.run(keep_alive())"
   ]
  },
  {
   "cell_type": "code",
   "execution_count": null,
   "metadata": {},
   "outputs": [],
   "source": [
    "import ipywidgets as ipw\n",
    "\n",
    "row1 = images[0:2]\n",
    "row2 = images[2:4]\n",
    "ipw.VBox([ipw.HBox(row1), ipw.HBox(row2)])"
   ]
  },
  {
   "cell_type": "code",
   "execution_count": null,
   "metadata": {},
   "outputs": [],
   "source": [
    "import threading\n",
    "\n",
    "threading.Thread(target=websocket_worker, daemon=True).start()"
   ]
  }
 ],
 "metadata": {
  "kernelspec": {
   "display_name": "dev310",
   "language": "python",
   "name": "python3"
  },
  "language_info": {
   "codemirror_mode": {
    "name": "ipython",
    "version": 3
   },
   "file_extension": ".py",
   "mimetype": "text/x-python",
   "name": "python",
   "nbconvert_exporter": "python",
   "pygments_lexer": "ipython3",
   "version": "3.10.14"
  }
 },
 "nbformat": 4,
 "nbformat_minor": 2
}
