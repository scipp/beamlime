{
 "cells": [
  {
   "cell_type": "code",
   "execution_count": null,
   "id": "0",
   "metadata": {},
   "outputs": [],
   "source": [
    "import logging\n",
    "from beamlime.kafka.sink import KafkaSink, serialize_dataarray_to_f144\n",
    "from beamlime import Message, StreamId, StreamKind\n",
    "\n",
    "instrument = 'bifrost'\n",
    "\n",
    "# Create logger that prints to stdout\n",
    "logger = logging.getLogger(__name__)\n",
    "logger.setLevel(logging.INFO)\n",
    "handler = logging.StreamHandler()\n",
    "handler.setFormatter(\n",
    "    logging.Formatter('%(asctime)s - %(name)s - %(levelname)s - %(message)s')\n",
    ")\n",
    "logger.addHandler(handler)\n",
    "\n",
    "sink = KafkaSink(\n",
    "    kafka_config={\"bootstrap.servers\": \"localhost:9092\"},\n",
    "    instrument=instrument,\n",
    "    serializer=serialize_dataarray_to_f144,\n",
    "    logger=logger,\n",
    ")"
   ]
  },
  {
   "cell_type": "code",
   "execution_count": null,
   "id": "1",
   "metadata": {},
   "outputs": [],
   "source": [
    "import time\n",
    "import scipp as sc\n",
    "\n",
    "da = sc.DataArray(sc.scalar(1.2), coords={'time': sc.scalar(time.time_ns(), unit='ns')})\n",
    "msg = Message(value=da, stream=StreamId(kind=StreamKind.LOG, name='detector_angle'))\n",
    "sink.publish_messages([msg])"
   ]
  },
  {
   "cell_type": "code",
   "execution_count": null,
   "id": "2",
   "metadata": {},
   "outputs": [],
   "source": [
    "import ipywidgets as widgets\n",
    "from IPython.display import display\n",
    "\n",
    "\n",
    "def on_slider_change(change):\n",
    "    \"\"\"Callback function that publishes a message when slider value changes\"\"\"\n",
    "    value = change['new']\n",
    "    da = sc.DataArray(\n",
    "        sc.scalar(value), coords={'time': sc.scalar(time.time_ns(), unit='ns')}\n",
    "    )\n",
    "    msg = Message(value=da, stream=StreamId(kind=StreamKind.LOG, name='detector_angle'))\n",
    "    sink.publish_messages([msg])\n",
    "    print(f\"Published message with value: {value}\")\n",
    "\n",
    "\n",
    "slider = widgets.FloatSlider(\n",
    "    value=1.2,\n",
    "    min=0.0,\n",
    "    max=10.0,\n",
    "    step=0.1,\n",
    "    description='Detector Angle:',\n",
    "    continuous_update=False,\n",
    ")\n",
    "\n",
    "slider.observe(on_slider_change, names='value')\n",
    "display(slider)"
   ]
  }
 ],
 "metadata": {
  "kernelspec": {
   "display_name": "dev311",
   "language": "python",
   "name": "python3"
  },
  "language_info": {
   "codemirror_mode": {
    "name": "ipython",
    "version": 3
   },
   "file_extension": ".py",
   "mimetype": "text/x-python",
   "name": "python",
   "nbconvert_exporter": "python",
   "pygments_lexer": "ipython3",
   "version": "3.11.13"
  }
 },
 "nbformat": 4,
 "nbformat_minor": 5
}
