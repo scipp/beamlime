{
 "cells": [
  {
   "cell_type": "code",
   "execution_count": null,
   "id": "13f0a09c-7b08-4032-aab2-70c5462c143e",
   "metadata": {
    "tags": []
   },
   "outputs": [],
   "source": [
    "class CodeDisplay:\n",
    "    def __init__(self, obj):\n",
    "        import inspect\n",
    "        self.source_code = inspect.getsource(obj)\n",
    "    def _repr_html_(self):\n",
    "        return f'<div><pre><code>{self.source_code}</code></pre></div>'\n",
    "    def __repr__(self):\n",
    "        return self.source_code"
   ]
  },
  {
   "cell_type": "code",
   "execution_count": null,
   "id": "8098c085-7d6b-4c28-badd-7c032da5bed8",
   "metadata": {
    "tags": []
   },
   "outputs": [],
   "source": [
    "from tests.prototypes.minimal_prototype.random_data_providers import provide_dummy_events\n",
    "provide_dummy_events()[0]"
   ]
  },
  {
   "cell_type": "code",
   "execution_count": null,
   "id": "2577ee48-c8a1-4a48-b4e4-eab0e0ee6de8",
   "metadata": {
    "tags": []
   },
   "outputs": [],
   "source": [
    "from tests.prototypes.minimal_prototype.workflow_example import workflow\n",
    "CodeDisplay(workflow)"
   ]
  },
  {
   "cell_type": "code",
   "execution_count": null,
   "id": "d56a89cb-d927-4fd4-ae32-6f1c9f4b2872",
   "metadata": {
    "tags": []
   },
   "outputs": [],
   "source": [
    "workflow(provide_dummy_events(), 10_000).plot()"
   ]
  }
 ],
 "metadata": {
  "kernelspec": {
   "display_name": "Python 3 (ipykernel)",
   "language": "python",
   "name": "python3"
  },
  "language_info": {
   "codemirror_mode": {
    "name": "ipython",
    "version": 3
   },
   "file_extension": ".py",
   "mimetype": "text/x-python",
   "name": "python",
   "nbconvert_exporter": "python",
   "pygments_lexer": "ipython3",
   "version": "3.9.16"
  }
 },
 "nbformat": 4,
 "nbformat_minor": 5
}
