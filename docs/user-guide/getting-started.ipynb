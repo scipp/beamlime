{
 "cells": [
  {
   "cell_type": "markdown",
   "metadata": {},
   "source": [
    "# Getting Started\n",
    "\n",
    "## Running Beamlime\n",
    "\n",
    "Run the `beamlime` command, and specify which workflow to use.\n",
    "Usually this would be done from a terminal.\n",
    "The current setup plots the results of the workflow and saves them to a file, which can we specify using the `--image-path` flag:"
   ]
  },
  {
   "cell_type": "code",
   "execution_count": null,
   "metadata": {},
   "outputs": [],
   "source": [
    "!beamlime \\\n",
    "    --workflow dummy \\\n",
    "    --nexus-template-path ../../tests/applications/ymir_detectors.json \\\n",
    "    --image-path-prefix reduction-result"
   ]
  },
  {
   "cell_type": "markdown",
   "metadata": {},
   "source": [
    "The dummy workflow returns a single result named \"random-counts\", which is added as a suffix to the output file name:\n",
    "\n",
    "![Plot of reduction result](reduction-result-random-counts.png)"
   ]
  },
  {
   "cell_type": "markdown",
   "metadata": {},
   "source": [
    "## Adding workflows\n",
    "\n",
    "Python packages can add workflows as plugins to Beamlime.\n",
    "To do this, create a Python package with a `beamlime.stateless` entry point in the `pyproject.toml` file.\n",
    "This is how the \"dummy\" workflow is added to Beamlime:\n",
    "\n",
    "```python\n",
    "# In beamlime's pyproject.toml\n",
    "[project.entry-points.\"beamlime.stateless\"]\n",
    "dummy = \"beamlime.stateless_workflow:dummy_workflow\"\n",
    "```\n",
    "\n",
    "Above, 'dummy' is the name of the workflow (which can then be passed to `beamlime --workflow`), and 'beamlime.stateless_workflow' is the name of the Python package and module containing the workflow.\n",
    "As an example, for a Loki workflow plugin provided by `esssans`, the entry point might look as follows:\n",
    "\n",
    "```python\n",
    "# In esssans' pyproject.toml\n",
    "[project.entry-points.\"beamlime.stateless\"]\n",
    "ess-loki = \"ess.sans.loki:live_workflow\"\n",
    "```\n",
    "\n",
    "where `live_workflow` must adhere to the [beamlime.StatelessWorkflow](https://scipp.github.io/beamlime/generated/classes/beamlime.StatelessWorkflow.html) protocol:"
   ]
  },
  {
   "cell_type": "code",
   "execution_count": null,
   "metadata": {},
   "outputs": [],
   "source": [
    "import inspect\n",
    "\n",
    "from beamlime import StatelessWorkflow\n",
    "\n",
    "print(inspect.getsource(StatelessWorkflow))"
   ]
  },
  {
   "cell_type": "markdown",
   "metadata": {},
   "source": [
    "This can be fulfilled by a class or a function, as long as it takes a `JSONGroup` and returns a [beamlime.WorkflowResult](https://scipp.github.io/beamlime/generated/classes/beamlime.WorkflowResult.html)."
   ]
  }
 ],
 "metadata": {
  "kernelspec": {
   "display_name": "dev310",
   "language": "python",
   "name": "python3"
  },
  "language_info": {
   "codemirror_mode": {
    "name": "ipython",
    "version": 3
   },
   "file_extension": ".py",
   "mimetype": "text/x-python",
   "name": "python",
   "nbconvert_exporter": "python",
   "pygments_lexer": "ipython3",
   "version": "3.10.13"
  }
 },
 "nbformat": 4,
 "nbformat_minor": 2
}
