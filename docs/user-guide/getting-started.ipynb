{
 "cells": [
  {
   "cell_type": "markdown",
   "metadata": {},
   "source": [
    "# Getting Started\n",
    "\n",
    "## Running Beamlime\n",
    "\n",
    "Run the `beamlime` command, and specify which workflow to use.\n",
    "Usually this would be done from a terminal.\n",
    "The current setup plots the results of the workflow and saves them to a file, which can we specify using the `--image-path` flag:"
   ]
  },
  {
   "cell_type": "code",
   "execution_count": null,
   "metadata": {
    "nbsphinx": "hidden",
    "tags": [
     "hide-cell"
    ]
   },
   "outputs": [],
   "source": [
    "import sys\n",
    "import os\n",
    "\n",
    "sys.path.append(\"../../tests\")\n",
    "\n",
    "from conftest import get_path\n",
    "\n",
    "os.environ[\"TEST_NEXUS_FILE_PATH\"] = get_path(\"ymir_detectors.nxs\").as_posix()"
   ]
  },
  {
   "cell_type": "code",
   "execution_count": null,
   "metadata": {},
   "outputs": [],
   "source": [
    "!beamlime \\\n",
    "    --workflow dummy \\\n",
    "    --nexus-file-path $TEST_NEXUS_FILE_PATH \\\n",
    "    --image-path-prefix reduction-result \\\n",
    "    --fill-dummy-data"
   ]
  },
  {
   "cell_type": "markdown",
   "metadata": {},
   "source": [
    "There is another command ``beamlime-raw-detectors`` but it does not work with ymir file.\n",
    "```bash\n",
    "!beamlime-raw-detectors \\\n",
    "    --fake-listener \\\n",
    "    --static-file-path loki.hdf  \\\n",
    "    --nexus-file-path loki.hdf  \\\n",
    "    --fill-dummy-data\n",
    "```"
   ]
  },
  {
   "cell_type": "markdown",
   "metadata": {},
   "source": [
    "The dummy workflow returns a single result named \"reduction-result.png\", which is added as a suffix to the output file name:\n",
    "\n",
    "![Plot of reduction result](reduction-result.png)"
   ]
  },
  {
   "cell_type": "markdown",
   "metadata": {},
   "source": [
    "## Adding Workflow Constructors\n",
    "\n",
    "Python packages can add workflow constructors as plugins to Beamlime.\n",
    "To do this, create a Python package with a `beamlime.workflow_plugin` entry point in the `pyproject.toml` file.\n",
    "This is how the \"dummy\" workflow is added to Beamlime:\n",
    "\n",
    "```python\n",
    "# In beamlime's pyproject.toml\n",
    "[project.entry-points.\"beamlime.workflow_plugin\"]\n",
    "dummy = \"beamlime.workflow_protocols:DummyLiveWorkflow\"\n",
    "```\n",
    "\n",
    "Above, 'dummy' is the name of the workflow (which can then be passed to `beamlime --workflow`), and 'beamlime.workflow_protocols:' is the name of the Python package and module containing the workflow constructor.\n",
    "As an example, for a Loki monitor workflow plugin provided by `esssans`, the entry point might look as follows:\n",
    "\n",
    "```python\n",
    "# In esssans' pyproject.toml\n",
    "[project.entry-points.\"beamlime.workflow_plugin\"]\n",
    "ess-loki-monitor = \"ess.loki.live:LokiMonitorWorkflow\"\n",
    "```\n",
    "\n",
    "where `live_workflow` must adhere to the [beamlime.LiveWorkflow](https://scipp.github.io/beamlime/generated/classes/beamlime.LiveWorkflow.html) protocol:"
   ]
  },
  {
   "cell_type": "code",
   "execution_count": null,
   "metadata": {},
   "outputs": [],
   "source": [
    "import inspect\n",
    "\n",
    "from beamlime import LiveWorkflow\n",
    "\n",
    "print(inspect.getsource(LiveWorkflow))"
   ]
  },
  {
   "cell_type": "markdown",
   "metadata": {},
   "source": [
    "This can be fulfilled by a class with\n",
    "- a constructor that accepts a nexus file path\n",
    "- ``__call__`` method that accepts `JSONGroup`s of each types, (nxlog, nxevent)\n",
    "- ``__call__`` method that returns a dictionary of a plottable results: [beamlime.WorkflowResult](https://scipp.github.io/beamlime/generated/classes/beamlime.WorkflowResult.html)."
   ]
  }
 ],
 "metadata": {
  "kernelspec": {
   "display_name": "lime-dev-310",
   "language": "python",
   "name": "python3"
  },
  "language_info": {
   "codemirror_mode": {
    "name": "ipython",
    "version": 3
   },
   "file_extension": ".py",
   "mimetype": "text/x-python",
   "name": "python",
   "nbconvert_exporter": "python",
   "pygments_lexer": "ipython3",
   "version": "3.10.15"
  }
 },
 "nbformat": 4,
 "nbformat_minor": 2
}
