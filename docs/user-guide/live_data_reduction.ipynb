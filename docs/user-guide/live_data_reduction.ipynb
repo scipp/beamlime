{
 "cells": [
  {
   "cell_type": "markdown",
   "metadata": {},
   "source": [
    "# Live Data Reduction\n",
    "\n",
    "\n",
    "## From Terminal\n",
    "\n",
    "You can run the ``beamlime`` command from your terminal to run the application and see the real-time update of a plot.\n",
    "\n",
    "```bash\n",
    "beamlime --image-path beamlime_plot.png\n",
    "```\n",
    "\n",
    "This command will save the plot into ``beamlime_plot.png``."
   ]
  },
  {
   "cell_type": "markdown",
   "metadata": {},
   "source": [
    "## Jupyter Environment\n",
    "\n",
    "You can also run the same thing in jupyter environment\n",
    "and use ``plopp`` matplotlib widget to see the real-time updated plot.\n",
    "\n",
    "**It uses the same ``PlotHandler`` as above,**\n",
    "**so running this application will create a file called ``beamlime_plot.png`` in the current directory.**"
   ]
  },
  {
   "cell_type": "code",
   "execution_count": null,
   "metadata": {},
   "outputs": [],
   "source": [
    "%matplotlib widget\n",
    "import scipp as sc\n",
    "\n",
    "sc.get_logger().addHandler(sc.logging.make_widget_handler())\n",
    "sc.display_logs()"
   ]
  },
  {
   "cell_type": "code",
   "execution_count": null,
   "metadata": {},
   "outputs": [],
   "source": [
    "from beamlime.constructors import SingletonProvider, Factory, multiple_constant_providers\n",
    "from beamlime.applications.handlers import (\n",
    "    DataReductionHandler,\n",
    "    WorkflowResultUpdate,\n",
    "    PlotStreamer,\n",
    "    DetectorDataReceived,\n",
    ")\n",
    "from beamlime.applications.daemons import (\n",
    "    DetectorDataReceived,\n",
    "    FakeListener,\n",
    "    NexusTemplatePath,\n",
    "    RunStart,\n",
    ")\n",
    "from beamlime.applications.base import Application\n",
    "from beamlime.executables.prototypes import collect_default_providers\n",
    "from beamlime.logging import BeamlimeLogger\n",
    "from beamlime.applications._parameters import NumFrames, DataFeedingSpeed\n",
    "from beamlime.stateless_workflow import Workflow\n",
    "\n",
    "# Build Factory\n",
    "prototype_factory = Factory(collect_default_providers())\n",
    "prototype_factory.providers[FakeListener] = FakeListener\n",
    "prototype_factory.providers[PlotStreamer] = SingletonProvider(PlotStreamer)\n",
    "parameters = {\n",
    "    BeamlimeLogger: sc.get_logger(),\n",
    "    DataFeedingSpeed: DataFeedingSpeed(1/14),\n",
    "    NumFrames: NumFrames(5),\n",
    "    Workflow: Workflow('dummy'),\n",
    "    NexusTemplatePath: NexusTemplatePath('../../tests/applications/ymir.json')\n",
    "}"
   ]
  },
  {
   "cell_type": "code",
   "execution_count": null,
   "metadata": {},
   "outputs": [],
   "source": [
    "from matplotlib import pyplot as plt\n",
    "with multiple_constant_providers(prototype_factory, parameters):\n",
    "    # Build the application\n",
    "    prototype_factory[BeamlimeLogger].setLevel(\"INFO\")\n",
    "    app = prototype_factory[Application]\n",
    "    # Register Handlers\n",
    "    plot_streamer = prototype_factory[PlotStreamer]\n",
    "    app.register_handling_method(WorkflowResultUpdate, plot_streamer.update_histogram)\n",
    "    data_reduction_handler = prototype_factory[DataReductionHandler]\n",
    "    app.register_handling_method(RunStart, data_reduction_handler.update_nexus_template)\n",
    "    app.register_handling_method(DetectorDataReceived, data_reduction_handler.process_message)\n",
    "    # Register Daemons\n",
    "    app.register_daemon(prototype_factory[FakeListener])\n",
    "\n",
    "    app.run()\n",
    "    plt.close()  # Close the plot from this cell."
   ]
  },
  {
   "cell_type": "code",
   "execution_count": null,
   "metadata": {},
   "outputs": [],
   "source": [
    "from plopp.widgets import Box, HBar\n",
    "\n",
    "Box(HBar(list(plot_streamer.figures.values())))"
   ]
  }
 ],
 "metadata": {
  "kernelspec": {
   "display_name": "Python 3 (ipykernel)",
   "language": "python",
   "name": "python3"
  },
  "language_info": {
   "codemirror_mode": {
    "name": "ipython",
    "version": 3
   },
   "file_extension": ".py",
   "mimetype": "text/x-python",
   "name": "python",
   "nbconvert_exporter": "python",
   "pygments_lexer": "ipython3",
   "version": "3.10.13"
  }
 },
 "nbformat": 4,
 "nbformat_minor": 4
}
