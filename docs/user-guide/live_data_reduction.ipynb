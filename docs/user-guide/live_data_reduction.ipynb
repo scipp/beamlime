{
 "cells": [
  {
   "cell_type": "markdown",
   "metadata": {},
   "source": [
    "# Live Data Reduction\n",
    "\n",
    "\n",
    "## From Terminal\n",
    "\n",
    "You can run the ``beamlime`` command from your terminal to run the application and see the real-time update of a plot.\n",
    "\n",
    "```bash\n",
    "beamlime --image-path beamlime_plot.png\n",
    "```\n",
    "\n",
    "This command will save the plot into ``beamlime_plot.png``."
   ]
  },
  {
   "cell_type": "markdown",
   "metadata": {},
   "source": [
    "## Jupyter Environment\n",
    "\n",
    "You can also run the same thing in jupyter environment\n",
    "and use ``plopp`` matplotlib widget to see the real-time updated plot.\n",
    "\n",
    "**It uses the same ``PlotHandler`` as above,**\n",
    "**so running this application will create a file called ``beamlime_plot.png`` in the current directory.**"
   ]
  },
  {
   "cell_type": "code",
   "execution_count": null,
   "metadata": {},
   "outputs": [],
   "source": [
    "%matplotlib widget\n",
    "import scipp as sc\n",
    "\n",
    "sc.get_logger().addHandler(sc.logging.make_widget_handler())\n",
    "sc.display_logs()"
   ]
  },
  {
   "cell_type": "code",
   "execution_count": null,
   "metadata": {},
   "outputs": [],
   "source": [
    "from beamlime.constructors import multiple_constant_providers, SingletonProvider\n",
    "from beamlime.applications.handlers import (\n",
    "    DataReductionHandler,\n",
    "    WorkflowResultUpdate,\n",
    "    PlotStreamer,\n",
    ")\n",
    "from beamlime.applications.daemons import DetectorDataReceived, FakeListener, NexusTemplatePath\n",
    "from beamlime.applications.base import Application\n",
    "from beamlime.executables.prototypes import default_prototype_factory\n",
    "from beamlime.logging import BeamlimeLogger\n",
    "from beamlime.applications._parameters import (\n",
    "    EventRate,\n",
    "    NumPixels,\n",
    "    NumFrames,\n",
    "    DataFeedingSpeed,\n",
    ")\n",
    "from beamlime.stateless_workflow import Workflow\n",
    "from matplotlib import pyplot as plt\n",
    "\n",
    "import logging\n",
    "\n",
    "prototype_factory = default_prototype_factory()\n",
    "# Replace the default data reduction handler provider with a singleton provider.\n",
    "# So that we can access to the figure that it is using to plot the histogram.\n",
    "prototype_factory.providers.pop(PlotStreamer)  # Remove the default handler.\n",
    "prototype_factory.providers[PlotStreamer] = SingletonProvider(PlotStreamer)\n",
    "\n",
    "with multiple_constant_providers(\n",
    "    prototype_factory,\n",
    "    {\n",
    "        BeamlimeLogger: sc.get_logger(),\n",
    "        DataFeedingSpeed: DataFeedingSpeed(1/14),\n",
    "        EventRate: EventRate(10_000),\n",
    "        NumPixels: NumPixels(10_000),\n",
    "        NumFrames: NumFrames(5),\n",
    "        Workflow: Workflow('dummy'),\n",
    "        NexusTemplatePath: NexusTemplatePath('../../tests/applications/ymir.json')\n",
    "    },\n",
    "):\n",
    "    prototype_factory[BeamlimeLogger].setLevel(logging.INFO)\n",
    "\n",
    "    # Build the application\n",
    "    app = prototype_factory[Application]\n",
    "    # Register Handlers\n",
    "    plot_saver = prototype_factory[PlotStreamer]\n",
    "    app.register_handling_method(WorkflowResultUpdate, plot_saver.update_histogram)\n",
    "    data_reduction_handler = prototype_factory[DataReductionHandler]\n",
    "    app.register_handling_method(DetectorDataReceived, data_reduction_handler.process_message)\n",
    "    # Register Daemons\n",
    "    app.register_daemon(prototype_factory[FakeListener])\n",
    "\n",
    "    app.run()\n",
    "    plt.close()  # Close the plot from this cell."
   ]
  },
  {
   "cell_type": "code",
   "execution_count": null,
   "metadata": {},
   "outputs": [],
   "source": [
    "from plopp.widgets import Box, HBar\n",
    "\n",
    "Box(HBar(list(plot_saver.figures.values())))"
   ]
  }
 ],
 "metadata": {
  "kernelspec": {
   "display_name": "Python 3 (ipykernel)",
   "language": "python",
   "name": "python3"
  },
  "language_info": {
   "codemirror_mode": {
    "name": "ipython",
    "version": 3
   },
   "file_extension": ".py",
   "mimetype": "text/x-python",
   "name": "python",
   "nbconvert_exporter": "python",
   "pygments_lexer": "ipython3",
   "version": "3.10.13"
  }
 },
 "nbformat": 4,
 "nbformat_minor": 4
}
