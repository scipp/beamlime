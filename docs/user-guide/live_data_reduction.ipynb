{
 "cells": [
  {
   "cell_type": "markdown",
   "metadata": {},
   "source": [
    "# Live Data Reduction\n",
    "\n",
    "\n",
    "## From Terminal\n",
    "\n",
    "You can run the ``beamlime`` command from your terminal to run the application and see the real-time update of a plot.\n",
    "\n",
    "```bash\n",
    "beamlime --image-path beamlime_plot.png\n",
    "```\n",
    "\n",
    "This command will save the plot into ``beamlime_plot.png``."
   ]
  },
  {
   "cell_type": "markdown",
   "metadata": {},
   "source": [
    "## Jupyter Environment\n",
    "\n",
    "You can also run the same thing in jupyter environment\n",
    "and use ``plopp`` matplotlib widget to see the real-time updated plot.\n",
    "\n",
    "**It uses the same ``PlotHandler`` as above,**\n",
    "**so running this application will create a file called ``beamlime_plot.png`` in the current directory.**"
   ]
  },
  {
   "cell_type": "code",
   "execution_count": null,
   "metadata": {
    "nbsphinx": "hidden",
    "tags": [
     "hide-cell"
    ]
   },
   "outputs": [],
   "source": [
    "import sys\n",
    "\n",
    "sys.path.append(\"../../tests/helpers\")"
   ]
  },
  {
   "cell_type": "code",
   "execution_count": null,
   "metadata": {},
   "outputs": [],
   "source": [
    "%matplotlib widget\n",
    "import scipp as sc\n",
    "\n",
    "sc.get_logger().addHandler(sc.logging.make_widget_handler())\n",
    "sc.display_logs()"
   ]
  },
  {
   "cell_type": "code",
   "execution_count": null,
   "metadata": {},
   "outputs": [],
   "source": [
    "from tests.applications.data import get_path\n",
    "\n",
    "file_path = get_path('ymir_detectors.nxs').as_posix()  # Path to the example file"
   ]
  },
  {
   "cell_type": "code",
   "execution_count": null,
   "metadata": {},
   "outputs": [],
   "source": [
    "from matplotlib import pyplot as plt\n",
    "\n",
    "from beamlime.constructors import (\n",
    "    multiple_constant_providers,\n",
    "    SingletonProvider,\n",
    "    Factory,\n",
    ")\n",
    "from beamlime.logging import BeamlimeLogger\n",
    "\n",
    "from beamlime.executables.prototypes import collect_default_providers\n",
    "from beamlime.applications.base import Application\n",
    "from beamlime.applications.handlers import (\n",
    "    DataReductionHandler,\n",
    "    WorkflowResultUpdate,\n",
    "    PlotStreamer,\n",
    "    DataAssembler,\n",
    "    DataReady,\n",
    "    ResultRegistry,\n",
    ")\n",
    "from beamlime.applications.daemons import (\n",
    "    DataPieceReceived,\n",
    "    FakeListener,\n",
    "    FillDummyData,\n",
    "    NexusTemplatePath,\n",
    "    NumFrames,\n",
    "    DataFeedingSpeed,\n",
    "    EventRate,\n",
    "    FrameRate,\n",
    "    RunStart,\n",
    "    NexusFilePath,\n",
    ")\n",
    "from beamlime.workflow_protocols import WorkflowName\n",
    "\n",
    "\n",
    "prototype_factory = Factory(collect_default_providers())\n",
    "prototype_factory.providers[FakeListener] = SingletonProvider(FakeListener)\n",
    "prototype_factory.providers[PlotStreamer] = SingletonProvider(PlotStreamer)\n",
    "prototype_factory.providers[DataAssembler] = DataAssembler\n",
    "\n",
    "result_registry = ResultRegistry({})\n",
    "with multiple_constant_providers(\n",
    "    prototype_factory,\n",
    "    {\n",
    "        BeamlimeLogger: sc.get_logger(),\n",
    "        DataFeedingSpeed: DataFeedingSpeed(0.3),\n",
    "        NumFrames: NumFrames(5),\n",
    "        EventRate: EventRate(10_000),\n",
    "        FrameRate: FrameRate(14),\n",
    "        WorkflowName: WorkflowName('dummy'),\n",
    "        NexusTemplatePath: NexusTemplatePath(\n",
    "            '../../tests/applications/ymir_detectors.json'\n",
    "        ),\n",
    "        NexusFilePath: NexusFilePath(file_path),\n",
    "        # TODO: Make a matching file for the template\n",
    "        ResultRegistry: result_registry,\n",
    "        FillDummyData: FillDummyData(True),\n",
    "    },\n",
    "):\n",
    "    prototype_factory[BeamlimeLogger].setLevel(\"INFO\")\n",
    "\n",
    "    # Build the application\n",
    "    app = prototype_factory[Application]\n",
    "    # Register Handlers\n",
    "    plot_saver = prototype_factory[PlotStreamer]\n",
    "    app.register_handling_method(WorkflowResultUpdate, plot_saver.update_histogram)\n",
    "    data_assembler = prototype_factory[DataAssembler]\n",
    "    app.register_handling_method(RunStart, data_assembler.set_run_start)\n",
    "    app.register_handling_method(DataPieceReceived, data_assembler.merge_data_piece)\n",
    "    data_reduction_handler = prototype_factory[DataReductionHandler]\n",
    "    app.register_handling_method(RunStart, data_reduction_handler.set_run_start)\n",
    "    app.register_handling_method(DataReady, data_reduction_handler.reduce_data)\n",
    "    # Register Daemons\n",
    "    app.register_daemon(prototype_factory[FakeListener])\n",
    "\n",
    "    app.run()\n",
    "    plt.close()  # Close the plot from this cell."
   ]
  },
  {
   "cell_type": "code",
   "execution_count": null,
   "metadata": {},
   "outputs": [],
   "source": [
    "plot_saver.show()"
   ]
  },
  {
   "cell_type": "code",
   "execution_count": null,
   "metadata": {},
   "outputs": [],
   "source": [
    "# Retrieve the result from the registry\n",
    "next(iter(result_registry.values()))"
   ]
  }
 ],
 "metadata": {
  "kernelspec": {
   "display_name": "lime-dev-310",
   "language": "python",
   "name": "python3"
  },
  "language_info": {
   "codemirror_mode": {
    "name": "ipython",
    "version": 3
   },
   "file_extension": ".py",
   "mimetype": "text/x-python",
   "name": "python",
   "nbconvert_exporter": "python",
   "pygments_lexer": "ipython3",
   "version": "3.10.15"
  }
 },
 "nbformat": 4,
 "nbformat_minor": 4
}
