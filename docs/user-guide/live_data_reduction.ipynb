{
 "cells": [
  {
   "cell_type": "markdown",
   "metadata": {},
   "source": [
    "# Live Data Reduction\n",
    "\n",
    "\n",
    "## From Terminal\n",
    "\n",
    "You can run the ``beamlime`` command from your terminal to run the application and see the real-time update of a plot.\n",
    "\n",
    "```bash\n",
    "beamlime --image-path beamlime_plot.png\n",
    "```\n",
    "\n",
    "This command will save the plot into ``beamlime_plot.png``."
   ]
  },
  {
   "cell_type": "markdown",
   "metadata": {},
   "source": [
    "## Jupyter Environment\n",
    "\n",
    "You can also run the same thing in jupyter environment\n",
    "and use ``plopp`` matplotlib widget to see the real-time updated plot.\n",
    "\n",
    "**It uses the same ``PlotHandler`` as above,**\n",
    "**so running this application will create a file called ``beamlime_plot.png`` in the current directory.**"
   ]
  },
  {
   "cell_type": "code",
   "execution_count": null,
   "metadata": {},
   "outputs": [],
   "source": [
    "%matplotlib widget\n",
    "import scipp as sc\n",
    "\n",
    "sc.get_logger().addHandler(sc.logging.make_widget_handler())\n",
    "sc.display_logs()"
   ]
  },
  {
   "cell_type": "code",
   "execution_count": null,
   "metadata": {},
   "outputs": [],
   "source": [
    "from matplotlib import pyplot as plt\n",
    "\n",
    "from beamlime.constructors import multiple_constant_providers, SingletonProvider, Factory\n",
    "from beamlime.logging import BeamlimeLogger\n",
    "\n",
    "from beamlime.executables.prototypes import collect_default_providers\n",
    "from beamlime.applications.base import Application\n",
    "from beamlime.applications.handlers import (\n",
    "    DataReductionHandler,\n",
    "    WorkflowResultUpdate,\n",
    "    PlotStreamer,\n",
    "    DataAssembler,\n",
    "    DataReady,\n",
    ")\n",
    "from beamlime.applications.daemons import (\n",
    "    DetectorDataReceived, FakeListener, NexusTemplatePath,\n",
    "    NumFrames, DataFeedingSpeed, FakeListener,\n",
    "    EventRate, FrameRate, RunStart\n",
    ")\n",
    "from beamlime.stateless_workflow import Workflow\n",
    "\n",
    "\n",
    "prototype_factory = Factory(collect_default_providers())\n",
    "prototype_factory.providers[FakeListener] = SingletonProvider(FakeListener)\n",
    "prototype_factory.providers[PlotStreamer] = SingletonProvider(PlotStreamer)\n",
    "\n",
    "with multiple_constant_providers(\n",
    "    prototype_factory,\n",
    "    {\n",
    "        BeamlimeLogger: sc.get_logger(),\n",
    "        DataFeedingSpeed: DataFeedingSpeed(1/14),\n",
    "        NumFrames: NumFrames(5),\n",
    "        EventRate: EventRate(10_000),\n",
    "        FrameRate: FrameRate(14),\n",
    "        Workflow: Workflow('dummy'),\n",
    "        NexusTemplatePath: NexusTemplatePath('../../tests/applications/ymir_detectors.json')\n",
    "    },\n",
    "):\n",
    "    prototype_factory[BeamlimeLogger].setLevel(\"INFO\")\n",
    "\n",
    "    # Build the application\n",
    "    app = prototype_factory[Application]\n",
    "    # Register Handlers\n",
    "    plot_saver = prototype_factory[PlotStreamer]\n",
    "    app.register_handling_method(WorkflowResultUpdate, plot_saver.update_histogram)\n",
    "    data_assembler = prototype_factory[DataAssembler]\n",
    "    app.register_handling_method(RunStart, data_assembler.set_run_start)\n",
    "    app.register_handling_method(DetectorDataReceived, data_assembler.assemble_detector_data)\n",
    "    data_reduction_handler = prototype_factory[DataReductionHandler]\n",
    "    app.register_handling_method(DataReady, data_reduction_handler.reduce_data)\n",
    "    # Register Daemons\n",
    "    app.register_daemon(prototype_factory[FakeListener])\n",
    "\n",
    "    app.run()\n",
    "    plt.close()  # Close the plot from this cell."
   ]
  },
  {
   "cell_type": "code",
   "execution_count": null,
   "metadata": {},
   "outputs": [],
   "source": [
    "from plopp.widgets import Box, HBar\n",
    "\n",
    "Box(HBar(list(plot_saver.figures.values())))"
   ]
  }
 ],
 "metadata": {
  "kernelspec": {
   "display_name": "Python 3 (ipykernel)",
   "language": "python",
   "name": "python3"
  },
  "language_info": {
   "codemirror_mode": {
    "name": "ipython",
    "version": 3
   },
   "file_extension": ".py",
   "mimetype": "text/x-python",
   "name": "python",
   "nbconvert_exporter": "python",
   "pygments_lexer": "ipython3",
   "version": "3.10.13"
  }
 },
 "nbformat": 4,
 "nbformat_minor": 4
}
