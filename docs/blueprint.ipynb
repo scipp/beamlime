{
 "cells": [
  {
   "cell_type": "markdown",
   "id": "75373e27-537b-495f-ae68-f5ca2a82c67f",
   "metadata": {
    "tags": []
   },
   "source": [
    "# Blueprint"
   ]
  },
  {
   "cell_type": "markdown",
   "id": "6132dd82-e8fd-4eaa-acc2-7123981884f9",
   "metadata": {},
   "source": [
    "## Preset Example"
   ]
  },
  {
   "cell_type": "code",
   "execution_count": null,
   "id": "aa284a9e-5018-46a6-a6ee-4bafcc008607",
   "metadata": {
    "tags": []
   },
   "outputs": [],
   "source": [
    "import scipp as sc\n",
    "%matplotlib widget\n",
    "from beamlime.logging import get_scipp_logger\n",
    "\n",
    "logger = get_scipp_logger(log_level=\"DEBUG\", widget=True)\n",
    "sc.display_logs()"
   ]
  },
  {
   "cell_type": "code",
   "execution_count": null,
   "id": "4caf1b98-62d4-4191-b3f4-fb6c5a8fd67b",
   "metadata": {
    "tags": []
   },
   "outputs": [],
   "source": [
    "from beamlime.applications.daemons import DataProcessDaemon, ControlInterface\n",
    "from beamlime.ready_factory import log_factory, app_factory\n",
    "from beamlime.logging import BeamlimeLogger\n",
    "from logging import DEBUG"
   ]
  },
  {
   "cell_type": "code",
   "execution_count": null,
   "id": "4581d456-c21f-4ebc-b973-684ab0792a19",
   "metadata": {
    "tags": []
   },
   "outputs": [],
   "source": [
    "with app_factory.temporary_provider(BeamlimeLogger,lambda: logger):\n",
    "    app_factory[BeamlimeLogger].setLevel(DEBUG)\n",
    "    command = app_factory[ControlInterface]\n",
    "    command.start()\n",
    "    ctrl = app_factory[DataProcessDaemon]\n",
    "    ctrl.run()"
   ]
  },
  {
   "cell_type": "code",
   "execution_count": null,
   "id": "e7416684-5fc1-4578-8bc7-a5f4c496af7c",
   "metadata": {
    "tags": []
   },
   "outputs": [],
   "source": [
    "from beamlime.applications.daemons import DataPlotter\n",
    "app_factory[DataPlotter].show()"
   ]
  },
  {
   "cell_type": "markdown",
   "id": "86704e2a-e136-49b4-bfe2-fcdfda245ab8",
   "metadata": {
    "tags": []
   },
   "source": [
    "## Replace DataStreamListener and Workflow"
   ]
  },
  {
   "cell_type": "code",
   "execution_count": null,
   "id": "ca6f287a-4469-4893-8423-57054a0a3b07",
   "metadata": {
    "tags": []
   },
   "outputs": [],
   "source": [
    "from beamlime.applications.providers import DataGenerator, Workflow, SimulationSetup\n",
    "from beamlime.constructors import Factory\n",
    "from dataclasses import dataclass\n",
    "user_factory = Factory()"
   ]
  },
  {
   "cell_type": "code",
   "execution_count": null,
   "id": "bffb8812-6047-4360-a708-8c9ccb81ff27",
   "metadata": {
    "tags": []
   },
   "outputs": [],
   "source": [
    "@dataclass\n",
    "class LocalSimulationSetup(SimulationSetup):\n",
    "    num_data: int = 12\n",
    "    max_pixels: int = 64\n",
    "    random_seed: int = 123\n",
    "    \n",
    "user_factory.cache_product(SimulationSetup, LocalSimulationSetup)"
   ]
  },
  {
   "cell_type": "code",
   "execution_count": null,
   "id": "fdcdaecf-974f-4c87-8cdf-eb7ed3aa9d51",
   "metadata": {
    "tags": []
   },
   "outputs": [],
   "source": [
    "@user_factory.provider\n",
    "def data_generator_provider(simulation_setup: SimulationSetup) -> DataGenerator:\n",
    "    from numpy.random import default_rng\n",
    "\n",
    "    st = simulation_setup\n",
    "    rng = default_rng(st.random_seed)\n",
    "    data_size = int(st.max_pixels)\n",
    "    x_coord = sc.linspace(\"counts\", start=0, stop=1, num=st.max_pixels, unit=\"m\")\n",
    "    y_coord = sc.linspace(\"counts\", start=0, stop=1, num=st.max_pixels, unit=\"m\")\n",
    "\n",
    "    # Custom generator here\n",
    "    def data_generator():\n",
    "        for _ in range(st.num_data):\n",
    "            values = rng.random(data_size)\n",
    "            data = sc.array(dims=[\"counts\"], values=values, unit=\"count\")\n",
    "            yield sc.DataArray(data=data, coords={\"x\": x_coord, \"y\": y_coord})\n",
    "\n",
    "    return data_generator"
   ]
  },
  {
   "cell_type": "code",
   "execution_count": null,
   "id": "bedffba0-70b6-481a-9f2f-b589066e3182",
   "metadata": {
    "tags": []
   },
   "outputs": [],
   "source": [
    "@user_factory.provider\n",
    "def workflow_provider(simulation_setup: SimulationSetup) -> Workflow:\n",
    "    from functools import reduce\n",
    "\n",
    "    binsize = int(simulation_setup.max_pixels / 16)\n",
    "    \n",
    "    # Custom workflow here\n",
    "    def workflow(data_chunk: list[sc.DataArray]):\n",
    "        summed = reduce(lambda x, y: x + y, data_chunk)\n",
    "        return summed.bin(x=binsize, y=binsize)\n",
    "\n",
    "    return workflow"
   ]
  },
  {
   "cell_type": "code",
   "execution_count": null,
   "id": "a62f6000-81fb-4bba-9d90-be10ad34dd11",
   "metadata": {
    "tags": []
   },
   "outputs": [],
   "source": [
    "with app_factory.local_factory(user_factory) as local_factory:\n",
    "    with local_factory.temporary_provider(BeamlimeLogger,lambda: logger):\n",
    "        local_factory[BeamlimeLogger].setLevel(DEBUG)\n",
    "        command = local_factory[ControlInterface]\n",
    "        command.start()\n",
    "        ctrl = local_factory[DataProcessDaemon]\n",
    "        ctrl.run()"
   ]
  },
  {
   "cell_type": "code",
   "execution_count": null,
   "id": "7a1628b9-d90f-435d-af03-450243523a39",
   "metadata": {
    "tags": []
   },
   "outputs": [],
   "source": [
    "sc.display_logs()"
   ]
  },
  {
   "cell_type": "code",
   "execution_count": null,
   "id": "11968c67-77ff-4575-aa26-db9c952b0b65",
   "metadata": {
    "tags": []
   },
   "outputs": [],
   "source": [
    "from beamlime.applications.daemons import DataPlotter\n",
    "local_factory[DataPlotter].show()"
   ]
  }
 ],
 "metadata": {
  "kernelspec": {
   "display_name": "Python 3 (ipykernel)",
   "language": "python",
   "name": "python3"
  },
  "language_info": {
   "codemirror_mode": {
    "name": "ipython",
    "version": 3
   },
   "file_extension": ".py",
   "mimetype": "text/x-python",
   "name": "python",
   "nbconvert_exporter": "python",
   "pygments_lexer": "ipython3",
   "version": "3.9.16"
  }
 },
 "nbformat": 4,
 "nbformat_minor": 5
}
