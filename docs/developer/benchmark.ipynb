{
 "cells": [
  {
   "cell_type": "code",
   "execution_count": null,
   "id": "6e81c0fb",
   "metadata": {},
   "outputs": [],
   "source": [
    "from rich.pretty import Pretty"
   ]
  },
  {
   "cell_type": "markdown",
   "id": "3756777c",
   "metadata": {},
   "source": [
    "# Benchmark\n",
    "\n",
    "ESS is built for various types of experiments with multiple instruments using different techniques.\n",
    "\n",
    "Benchmarking was needed to make sure the data reduction workflow can handle the streaming data in real time."
   ]
  },
  {
   "cell_type": "markdown",
   "id": "37733820",
   "metadata": {},
   "source": [
    "## Benchmark Parameters\n",
    "\n",
    "We are focusing on benchmarking the speed of computing process.\n",
    "\n",
    "The baseline of the process speed is the pulse rate of 14/s.\n",
    "\n",
    "The main parameters that affect to the speed are (1) size of data and (2) size of bins.\n",
    "\n",
    "(1) size of data depends on to the event rate that an instrument receives\n",
    "and (2) size of bins mostly depends on the number of pixels that each instrument(or a detector) has.\n",
    "\n",
    "Therefore ``event rate`` and ``number of pixels`` are the main benchmarking parameters.\n",
    "\n",
    "| parameter name   | corresponding quantity in the data reduction | simplified variable name |\n",
    "| ---------------- | -------------------------------------------- | ------------------------ |\n",
    "| event rate       | size of data                                 | event_rate               |\n",
    "| number of pixels | size of bins                                 | num_pixels               |\n",
    "\n",
    "\n",
    "Here is the list of benchmark parameters in the testing framework\n",
    "and the default value of each parameters."
   ]
  },
  {
   "cell_type": "code",
   "execution_count": null,
   "id": "71cad7b2",
   "metadata": {},
   "outputs": [],
   "source": [
    "from tests.prototypes.parameters import PrototypeParameters\n",
    "\n",
    "Pretty(PrototypeParameters())"
   ]
  },
  {
   "cell_type": "markdown",
   "id": "8be4d6e5",
   "metadata": {},
   "source": [
    "## Benchmark Tools\n",
    "\n",
    "Benchmark tests and related tools are collected in ``tests/benchmarks`` and ``tests/prototypes``."
   ]
  },
  {
   "cell_type": "markdown",
   "id": "79a0714a",
   "metadata": {},
   "source": [
    "## ESS Instruments Requirements\n",
    "\n",
    "Each instrument may have a range of requirements.\n",
    "\n",
    "For example, an instrument can use different number of pixels depending on the experiment settings.\n",
    "\n",
    "We have collected estimated numbers of event rate and number of pixels for each instrument."
   ]
  },
  {
   "cell_type": "code",
   "execution_count": null,
   "id": "a1678b13",
   "metadata": {},
   "outputs": [],
   "source": [
    "from tests.benchmarks.requirements import ESSInstruments\n",
    "\n",
    "hw_requirements = ESSInstruments()\n",
    "hw_requirements.show()"
   ]
  }
 ],
 "metadata": {
  "kernelspec": {
   "display_name": "Python 3 (ipykernel)",
   "language": "python",
   "name": "python3"
  },
  "language_info": {
   "codemirror_mode": {
    "name": "ipython",
    "version": 3
   },
   "file_extension": ".py",
   "mimetype": "text/x-python",
   "name": "python",
   "nbconvert_exporter": "python",
   "pygments_lexer": "ipython3",
   "version": "3.9.18"
  }
 },
 "nbformat": 4,
 "nbformat_minor": 5
}
