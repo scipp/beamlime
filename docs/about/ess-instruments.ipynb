{
 "cells": [
  {
   "cell_type": "markdown",
   "id": "1a09e19d",
   "metadata": {},
   "source": [
    "# ESS Instruments\n",
    "\n",
    "``beamlime`` is designed and implemented to support live data reduction at ESS.\n",
    "\n",
    "ESS has various instruments and each of them has different range of computation loads.\n",
    "\n",
    "Here is the plot of ``number of pixel`` and ``event rate`` ranges."
   ]
  },
  {
   "cell_type": "code",
   "execution_count": null,
   "id": "3fc772aa",
   "metadata": {
    "nbsphinx": "hidden"
   },
   "outputs": [],
   "source": [
    "import sys\n",
    "sys.path.append('../../')  # To use ``tests`` as a package."
   ]
  },
  {
   "cell_type": "code",
   "execution_count": null,
   "id": "377c4f36",
   "metadata": {},
   "outputs": [],
   "source": [
    "from tests.benchmarks.ess_requirements import ESSInstruments\n",
    "\n",
    "ess_requirements = ESSInstruments()\n",
    "ess_requirements.show()"
   ]
  },
  {
   "cell_type": "markdown",
   "id": "b2e2d514",
   "metadata": {},
   "source": [
    "There is a set of benchmark results we have collected with dummy workflow in various computing environments.\n",
    "\n",
    "They are collected with the ``benchmarks`` module in ``tests`` package in the repository.\n",
    "\n",
    "And the ``benchmarks`` module also has loading/visualization helpers.\n",
    "\n",
    "Here is a contour performance plot of one of the results."
   ]
  },
  {
   "cell_type": "code",
   "execution_count": null,
   "id": "73befafa",
   "metadata": {},
   "outputs": [],
   "source": [
    "from tests.benchmarks.environments import env_providers\n",
    "from tests.benchmarks.loader import loading_providers, MergedMeasurementsDF, BenchmarkRootDir, ResultMap\n",
    "from beamlime.constructors import Factory\n",
    "from docs.about.data import benchmark_results\n",
    "import json\n",
    "\n",
    "results = benchmark_results()\n",
    "results_map = json.loads(results.read_text())\n",
    "factory = Factory(loading_providers, env_providers)\n",
    "with factory.constant_provider(ResultMap, results_map):\n",
    "    df = factory[MergedMeasurementsDF]"
   ]
  },
  {
   "cell_type": "code",
   "execution_count": null,
   "id": "ee95cb87",
   "metadata": {},
   "outputs": [],
   "source": [
    "# Flatten required hardware specs into columns.\n",
    "from tests.benchmarks.environments import BenchmarkEnvironment\n",
    "\n",
    "def retrieve_total_memory(env: BenchmarkEnvironment) -> float:\n",
    "    return env.hardware_spec.total_memory.value\n",
    "\n",
    "def retrieve_cpu_cores(env: BenchmarkEnvironment) -> float:\n",
    "    return env.hardware_spec.cpu_spec.process_cpu_affinity.value\n",
    "\n",
    "df[\"total_memory [GB]\"] = df['environment'].apply(retrieve_total_memory)\n",
    "df[\"cpu_cores [GB]\"] = df['environment'].apply(retrieve_cpu_cores)\n",
    "\n",
    "# Fix column names to have proper units.\n",
    "df.rename(\n",
    "    columns={\n",
    "        'num_pixels': 'num_pixels [counts]',\n",
    "        'num_events': 'num_events [counts]',\n",
    "        'num_frames': 'num_frames [counts]',\n",
    "        'event_rate': 'event_rate [counts/s]',\n",
    "    },\n",
    "    inplace=True\n",
    ")"
   ]
  },
  {
   "cell_type": "code",
   "execution_count": null,
   "id": "3782ec5f",
   "metadata": {},
   "outputs": [],
   "source": [
    "import scipp as sc\n",
    "from scipp.compat.pandas_compat import from_pandas, parse_bracket_header\n",
    "\n",
    "# Convert to scipp dataset.\n",
    "ds: sc.Dataset = from_pandas(\n",
    "    df.drop(columns=['environment']),\n",
    "    header_parser=parse_bracket_header,\n",
    "    data_columns='time'\n",
    ")\n",
    "\n",
    "# Derive speed from time measurements and number of frames.\n",
    "ds['speed'] = ds.coords['num_frames']/ds['time']"
   ]
  },
  {
   "cell_type": "code",
   "execution_count": null,
   "id": "1b5a3c56",
   "metadata": {},
   "outputs": [],
   "source": [
    "from tests.benchmarks.calculations import sample_mean_per_bin, sample_variance_per_bin\n",
    "\n",
    "# Calculate mean and variance per bin.\n",
    "binned = ds['speed'].group('event_rate', 'num_pixels', 'cpu_cores')\n",
    "da = sample_mean_per_bin(binned)\n",
    "da.variances = sample_variance_per_bin(binned).values"
   ]
  },
  {
   "cell_type": "code",
   "execution_count": null,
   "id": "d890778b",
   "metadata": {},
   "outputs": [],
   "source": [
    "# Select measurement with 63 CPU cores.\n",
    "da_64_cores = da['cpu_cores', sc.scalar(63, unit='GB')]\n",
    "\n",
    "# Create a meta string with the selected data.\n",
    "df_64_cores = df[df['cpu_cores [GB]']==63].reset_index(drop=True)\n",
    "df_64_cores_environments = df_64_cores['environment'][0]\n",
    "meta_64_cores = [\n",
    "    f\"{ds.coords['target-name'][0].value} \"\n",
    "    f\"of beamlime @ {df_64_cores_environments.git_commit_id[:7]} \",\n",
    "    f\"on {df_64_cores_environments.hardware_spec.operating_system} \"\n",
    "    f\"with {df_64_cores_environments.hardware_spec.total_memory.value} \"\n",
    "    f\"[{df_64_cores_environments.hardware_spec.total_memory.unit}] of memory, \"\n",
    "    f\"{da_64_cores.coords['cpu_cores'].value} CPU cores\",\n",
    "    f\"processing total [{df_64_cores['num_frames [counts]'].min()}, {df_64_cores['num_frames [counts]'].max()}] frames \"\n",
    "]\n",
    "\n",
    "da_64_cores"
   ]
  },
  {
   "cell_type": "code",
   "execution_count": null,
   "id": "c913eade",
   "metadata": {},
   "outputs": [],
   "source": [
    "from matplotlib import pyplot as plt\n",
    "from tests.benchmarks.visualize import plot_contourf\n",
    "\n",
    "fig, ax = plt.subplots(1, 1, figsize=(10, 7))\n",
    "ctr = plot_contourf(da_64_cores,\n",
    "    x_coord='event_rate',\n",
    "    y_coord='num_pixels',\n",
    "    fig=fig,\n",
    "    ax=ax,\n",
    "    levels=[2, 4, 8, 14, 32, 64, 128],\n",
    "    extend='both',\n",
    "    colors = ['gold', 'yellow', 'orange', 'lime', 'yellowgreen', 'green', 'darkgreen'],\n",
    "    under_color='lightgrey',\n",
    "    over_color='darkgreen',\n",
    ")\n",
    "ess_requirements.plot_boundaries(ax)\n",
    "ess_requirements.configure_full_scale(ax)\n",
    "\n",
    "ax.set_title('Beamlime Performance Contour Plot')\n",
    "ax.annotate('14.00 [frame/s]', (5e4, 9e6), size=10)\n",
    "ax.text(10**4, 10**8, '\\n'.join(meta_64_cores))\n",
    "fig.tight_layout()"
   ]
  }
 ],
 "metadata": {
  "kernelspec": {
   "display_name": "Python 3 (ipykernel)",
   "language": "python",
   "name": "python3"
  },
  "language_info": {
   "codemirror_mode": {
    "name": "ipython",
    "version": 3
   },
   "file_extension": ".py",
   "mimetype": "text/x-python",
   "name": "python",
   "nbconvert_exporter": "python",
   "pygments_lexer": "ipython3",
   "version": "3.9.18"
  }
 },
 "nbformat": 4,
 "nbformat_minor": 5
}
